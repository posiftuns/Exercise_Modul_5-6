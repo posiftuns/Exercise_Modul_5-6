{
 "cells": [
  {
   "cell_type": "markdown",
   "metadata": {},
   "source": [
    "***\n",
    "<h1 align=\"center\">Exercise 5</h1>\n",
    " \n",
    "***"
   ]
  },
  {
   "cell_type": "markdown",
   "metadata": {},
   "source": [
    "Nama&nbsp;&nbsp;: ... <br>\n",
    "NIM&emsp;&nbsp;: ...<br>\n",
    "Kelas&nbsp;&nbsp;&nbsp;: ..."
   ]
  },
  {
   "cell_type": "markdown",
   "metadata": {},
   "source": [
    "## Mengerjakan Exercise\n",
    " Pengerjaan *exercise* dapat dilakukan dengan memperhatikan petunjuk dan catatan yang sudah diberikan. Dimohon untuk membaca dan memperhatikan setiap langkah dan materi pada *exercise* supaya materi pembelajaran dapat dipahami secara maksimal.\n",
    "\n",
    "Selamat mengerjakan!"
   ]
  },
  {
   "cell_type": "markdown",
   "metadata": {},
   "source": [
    "## Fungsi"
   ]
  },
  {
   "cell_type": "markdown",
   "metadata": {},
   "source": [
    "Fungsi dibuat dengan menggunakan *keyword* `def ...` dan perlu diperhatikan penggunaan indent dalam membuat suatu fungsi."
   ]
  },
  {
   "cell_type": "markdown",
   "metadata": {},
   "source": [
    "#### 1. Fungsi tanpa nilai balik\n"
   ]
  },
  {
   "cell_type": "markdown",
   "metadata": {},
   "source": [
    "Berikut merupakan contoh fungsi sederhana penggunaan fungsi tanpa nilai balik."
   ]
  },
  {
   "cell_type": "code",
   "execution_count": null,
   "metadata": {},
   "outputs": [],
   "source": [
    "# Contoh Fungsi tanpa nilai balik\n",
    "# Cukup run cell ini tanpa perlu mengubah apapun \n",
    "def salam():\n",
    "    print(\"Halo Praktikan Programa Komputer 2024!\")\n",
    "\n",
    "salam()"
   ]
  },
  {
   "cell_type": "markdown",
   "metadata": {},
   "source": [
    "Mari kita coba membuat fungsi untuk memasukkan dan menampilkan `NIM`"
   ]
  },
  {
   "cell_type": "code",
   "execution_count": null,
   "metadata": {},
   "outputs": [],
   "source": [
    "# Membuat fungsi dasar sederhana\n",
    "def input_NIM(): \n",
    "    ... # buatlah kode program untuk memasukkan dan menampilkan NIM \n",
    "\n",
    "...()# Memanggil fungsi yang telah dibuat"
   ]
  },
  {
   "cell_type": "markdown",
   "metadata": {},
   "source": [
    "Mari kita coba untuk membuat fungsi tanpa nilai balik dengan struktur yang lebih kompleks.\n",
    "<br/> Pada cell di bawah, buatlah fungsi untuk:\n",
    "- Menghitung nilai total pembelian\n",
    "- Memberikan diskon **20%** apabila jumlah pembelian di atas **100**"
   ]
  },
  {
   "cell_type": "code",
   "execution_count": null,
   "metadata": {},
   "outputs": [],
   "source": [
    "# Membuat fungsi untuk menghitung total pembelian\n",
    "def total_pembelian(harga_barang, jumlah_barang):\n",
    "    # Menghitung total pembelian\n",
    "    total_pembelian = ... * ... # masukkan program untuk menghitung total pembelian dengan parameter yang ada\n",
    "    \n",
    "    # Menerapkan diskon 20% jika total pembelian lebih dari 100\n",
    "    if ... > ...: \n",
    "        diskon = ... * ... # buatlah perhitungan nilai diskon\n",
    "        total_pembelian -= diskon\n",
    "        print(\"Anda mendapatkan diskon sebesar Rp.\", diskon)\n",
    "\n",
    "    # Mencetak total pembelian\n",
    "    print(\"Total pembelian Anda adalah Rp.\", total_pembelian)\n",
    "\n",
    "harga_barang = ... # buatlah variabel untuk memasukkan nilai harga barang\n",
    "jumlah_barang = ... # buatlah variabel untuk memasukkan nilai jumlah barang\n",
    "...(..., ...) # memanggil fungsi"
   ]
  },
  {
   "cell_type": "markdown",
   "metadata": {},
   "source": [
    "Dapat diperhatikan pada line 2, `def total_pembelian(harga_barang, jumlah_barang)` , **harga_barang** dan **jumlah_barang** disebut sebagai parameter. "
   ]
  },
  {
   "cell_type": "markdown",
   "metadata": {},
   "source": [
    "#### 2. Fungsi dengan nilai balik"
   ]
  },
  {
   "cell_type": "markdown",
   "metadata": {},
   "source": [
    "Berikut merupakan contoh fungsi sederhana dengan nilai balik untuk menghitung luas persegi panjang."
   ]
  },
  {
   "cell_type": "code",
   "execution_count": null,
   "metadata": {},
   "outputs": [],
   "source": [
    "# Contoh Fungsi dengan nilai balik\n",
    "# Cukup run cell ini tanpa perlu mengubah apapun \n",
    "def hitung_luas_persegi_panjang(panjang, lebar):\n",
    "    luas = panjang * lebar\n",
    "    return luas\n",
    "\n",
    "# Contoh penggunaan fungsi\n",
    "panjang = 5\n",
    "lebar = 3\n",
    "luas_persegi_panjang = hitung_luas_persegi_panjang(panjang, lebar)\n",
    "print(\"Luas persegi panjang:\", luas_persegi_panjang)"
   ]
  },
  {
   "cell_type": "markdown",
   "metadata": {},
   "source": [
    "Dapat diperhatikan pada line 9, `luas_persegi_panjang = hitung_luas_persegi_panjang(panjang, lebar)` , kita dapat memanggil nilai variabel hasil perhitungan menggunakan fungsi yang telah disimpan dengan menggunakan **return**"
   ]
  },
  {
   "cell_type": "markdown",
   "metadata": {},
   "source": [
    "Mari kita coba untuk membuat fungsi dengan nilai balik.\n",
    "<br/>Buatlah fungsi menghitung `rata-rata` dengan menggunakan nilai balik!"
   ]
  },
  {
   "cell_type": "code",
   "execution_count": null,
   "metadata": {},
   "outputs": [],
   "source": [
    "# Membuat fungsi untuk menghitung rata-rata\n",
    "def nilai_rata_rata(x,y):\n",
    "    ... = (... + ...)/...  # buatlah variabel untuk menghitung rata-rata nilai x dan y\n",
    "    return ... # ganti dengan nama variabel yang telah kalian buat\n",
    "\n",
    "x = ... # buatlah program untuk memasukkan nilai x\n",
    "y = ... # buatlah program untuk memasukkan nilai y\n",
    "output = ... # memanggil nilai hasil perhitungan rata-rata dengan fungsi\n",
    "print('Nilai rata-rata hasil perhitungan adalah: ', output)"
   ]
  },
  {
   "cell_type": "markdown",
   "metadata": {},
   "source": [
    "Mari kita coba untuk membuat fungsi dengan nilai balik dengan struktur yang lebih kompleks.\n",
    "<br/>Pada cell di bawah, buatlah fungsi untuk:\n",
    "- Menghitung nilai total pembelian\n",
    "- Memberikan diskon **15%** jika pembelian lebih dari sama dengan **100**\n",
    "- Menambahkan nilai pajak pada total pembelian\n"
   ]
  },
  {
   "cell_type": "code",
   "execution_count": null,
   "metadata": {},
   "outputs": [],
   "source": [
    "# Membuat fungsi total_pembelian dengan pajak\n",
    "def hitung_total_pembelian(..., ...): # masukkan parameter yang akan digunakan dalam fungsi\n",
    "    total_pembelian = ... * ... # masukkan program untuk menghitung total pembelian dengan parameter yang ada\n",
    "    \n",
    "    # Menerapkan diskon 15% jika total pembelian lebih dari dama dengan 100\n",
    "    if ...: # buatlah statement untuk jika pembelian lebih dari sama dengan 100\n",
    "        diskon = ... * ...\n",
    "        total_pembelian -= diskon\n",
    "    return ... # masukkan nilai balik untuk variabel yang dibutuhkan\n",
    "\n",
    "def hitung_total_pembayaran(total_pembelian, pajak):\n",
    "    total_pembayaran = ... + ... # masukkan program untuk menghitung total pembayaran dengan menambahkan pajak\n",
    "    return ... # masukkan nilai balik untuk variabel yang dibutuhkan\n",
    "\n",
    "harga_barang = ... # buatlah variabel untuk memasukkan nilai harga barang\n",
    "jumlah_barang = ... # buatlah variabel untuk memasukkan nilai jumlah barang\n",
    "... = ... # buatlah variabel pajak dengan nilai rasio pajak antara 0.01-0.10\n",
    "\n",
    "total_pembelian = hitung_total_pembelian(harga_barang, jumlah_barang)\n",
    "total_pembayaran = hitung_total_pembayaran(total_pembelian, total_pembelian * ...) # ganti titik-titik dengan variabel rasio pajak yang telah dibuat\n",
    "\n",
    "print(\"Total pembelian Anda adalah Rp.\", total_pembelian)\n",
    "print(\"Total pembayaran setelah pajak adalah Rp.\", total_pembayaran)"
   ]
  },
  {
   "cell_type": "markdown",
   "metadata": {},
   "source": [
    "## Fungsi Bulit-In"
   ]
  },
  {
   "cell_type": "markdown",
   "metadata": {},
   "source": [
    "#### len()"
   ]
  },
  {
   "cell_type": "markdown",
   "metadata": {},
   "source": [
    "Fungsi `len()` merupakan salah salah satu **fungsi Built-In** yang paling sering digunakan dalam *programming*.\n",
    "<br/>Berikut merupakan contoh sederhana penggunaan fungsi Built-In `len()`."
   ]
  },
  {
   "cell_type": "code",
   "execution_count": null,
   "metadata": {},
   "outputs": [],
   "source": [
    "# Contoh fungsi dengan Built-In len()\n",
    "# Cukup run cell ini tanpa perlu mengubah apapun \n",
    "my_string = \"Hello, World!\"\n",
    "panjang_string = len(my_string)\n",
    "print(\"Panjang string:\", panjang_string)\n",
    "\n",
    "angka = [0, 1,2,3,4,5,6]\n",
    "jumlah_angka = len(angka)\n",
    "print(\"Jumlah angka adalah: \", jumlah_angka)"
   ]
  },
  {
   "cell_type": "markdown",
   "metadata": {},
   "source": [
    "Fungsi Built-In `len()` pada umumnya dapat juga digunakan dalam `if else ...` statement.\n",
    "<br> Berikut merupakan contoh `len()` pada `if else ...` statement."
   ]
  },
  {
   "cell_type": "code",
   "execution_count": null,
   "metadata": {},
   "outputs": [],
   "source": [
    "# Contoh penggunaan fungsi dengan Built-In len()\n",
    "def cek_nilai_negatif(daftar):\n",
    "    for i in range(len(daftar)):\n",
    "        if daftar[i] < 0:\n",
    "            print(\"Nilai negatif ditemukan di indeks\", i)\n",
    "        else:\n",
    "            print(\"Tidak ada nilai negatif di indeks\", i)\n",
    "\n",
    "my_list = [2, 2, -8, -3, 0]\n",
    "cek_nilai_negatif(my_list)"
   ]
  },
  {
   "cell_type": "markdown",
   "metadata": {},
   "source": [
    "Mari kita coba membuat fungsi dengan menggunakan Built-In `len()`."
   ]
  },
  {
   "cell_type": "code",
   "execution_count": null,
   "metadata": {},
   "outputs": [],
   "source": [
    "# Membuat fungsi untuk mengecek apakah terdapat angka duplikat pada list\n",
    "def cek_duplikat(daftar):\n",
    "    duplikat = set()\n",
    "    for i in range(...(...)): \n",
    "        for j in range(i + 1, ...(...)): \n",
    "            if ...[...] == ...[...]:  # buatlah statement apakah nilai index i dan j pada daftar merupakan angka sama \n",
    "                duplikat.add(daftar[i])\n",
    "                break\n",
    "    \n",
    "    if ...(duplikat) > ...: # masukkan statement apakah terdapat angka pada set duplikat \n",
    "        print(\"Angka duplikat yang ditemukan:\", duplikat)\n",
    "    else:\n",
    "        print(\"Tidak ada angka duplikat yang ditemukan.\")\n",
    "\n",
    "# Contoh penggunaan fungsi\n",
    "list = [5,2,0,7,9,6,3,8,2,5,2,1,9,0,4]\n",
    "cek_duplikat(list)\n"
   ]
  },
  {
   "cell_type": "markdown",
   "metadata": {},
   "source": [
    "Selain `len()` masih terdapat banyak lagi **fungsi Built-In** yang dapat digunakan. Silahkan dipelajari masing-masing di rumah sesuai dengan yang kalian butuhkan terutama pada saat pengerjaan **Tugas Besar/Project** nantinya."
   ]
  },
  {
   "cell_type": "markdown",
   "metadata": {},
   "source": [
    "***\n",
    "<h1 align=\"center\">Exercise 6</h1>\n",
    " \n",
    "***"
   ]
  },
  {
   "cell_type": "markdown",
   "metadata": {},
   "source": [
    "## Pendefinisian Matriks"
   ]
  },
  {
   "cell_type": "markdown",
   "metadata": {},
   "source": [
    "Matriks pada pemrogramman Python pada dasarnya disusun didalam array berupa nested list. Pendefinisian matriks 2-dimensi berukuran 3x2 dapat ditulis seperti contoh di bawah.\n",
    "```python:\n",
    "Matriks = [[1, 2],\n",
    "\t[4, 5],\n",
    "\t[7, 8]]\n",
    "```\n",
    "`# output: [[1, 2], [4, 5], [7, 8]]`\n",
    "\n",
    "Penulisan matriks dalam bentuk nested list dapat dibuat dalam sebaris atau menjadi beberapa baris dengan tujuan untuk memudahkan penulisan matriks. "
   ]
  },
  {
   "cell_type": "markdown",
   "metadata": {},
   "source": [
    "Dibawah ini, kita akan mencoba untuk membuat matriks A dengan ukuran 3x4 menggunakan nested list."
   ]
  },
  {
   "cell_type": "code",
   "execution_count": null,
   "metadata": {},
   "outputs": [
    {
     "name": "stdout",
     "output_type": "stream",
     "text": [
      "[[1, 2, 3, 4], [4, 5, 5, 7], [7, 8, 3, 5]]\n"
     ]
    }
   ],
   "source": [
    "# Pendefinisian variabel\n",
    "matriks_A = [...] # Buatlah matriks 3x4 dengan angka bebas\n",
    "\n",
    "print(matriks_A)"
   ]
  },
  {
   "cell_type": "markdown",
   "metadata": {},
   "source": [
    "Selain menggunakan pendefinisian secara manual, matriks juga dapat didefinisikan menggunakan cara lain, seperti _for loops_ seperti contoh di bawah untuk matriks default.\n",
    "```python:\n",
    "matriks = [[0 for j in range(3)]for i in range(3)]\n",
    "```\n",
    "\n",
    "`# output = [[0, 0, 0], [0, 0, 0], [0, 0, 0]]`\n",
    "\n",
    "Sayangnya, cara diatas hanya dapat digunakan jika seluruh nilai didalam matriks memiliki nilai yang sama.\n",
    "\n"
   ]
  },
  {
   "cell_type": "markdown",
   "metadata": {},
   "source": [
    "Dibawah ini, kita akan mencoba untuk membuat matriks B dengan ukuran 3x4 dengan nilai angka yang unik dan berurutan."
   ]
  },
  {
   "cell_type": "code",
   "execution_count": null,
   "metadata": {},
   "outputs": [
    {
     "name": "stdout",
     "output_type": "stream",
     "text": [
      "[[0, 1, 2, 3], [2, 3, 4, 5], [4, 5, 6, 7]]\n"
     ]
    }
   ],
   "source": [
    "matriks_B = []\n",
    "\n",
    "# nested loops untuk membuat matriks\n",
    "# isi dengan ukuran baris matriks\n",
    "for ... in range(...):                  \n",
    "    line = []\n",
    "    \n",
    "    # isi dengan ukuran kolom matriks\n",
    "    for ... in range(...):                 \n",
    "        # isi dengan nilai yang akan diinput kedalam matriks\n",
    "        line.append(...)         \n",
    "\n",
    "    matriks_B.append(line)\n",
    "   \n",
    "print(matriks_B)\n",
    "\n",
    "# Output diharapkan : [[0, 1, 2, 3], [2, 3, 4, 5], [4, 5, 6, 7]]"
   ]
  },
  {
   "cell_type": "markdown",
   "metadata": {},
   "source": [
    "## Mengakses nilai pada matriks"
   ]
  },
  {
   "cell_type": "markdown",
   "metadata": {},
   "source": [
    "Untuk mengakses pada matriks, dapat menggunakan index list. Pada contoh matris 2-dimensi diatas, maka untuk mengakses nilai matriks dapat menggunakan `nama_matriks[<index baris>][<index kolom>]`\n",
    "\n",
    "Namun tetap perlu diingat, bahwa index pada python dimulai dari 0."
   ]
  },
  {
   "cell_type": "code",
   "execution_count": null,
   "metadata": {},
   "outputs": [
    {
     "name": "stdout",
     "output_type": "stream",
     "text": [
      "Nilai pada baris ke-3 kolom ke-2 matriks C adalah = 8\n"
     ]
    }
   ],
   "source": [
    "matriks_C = [[1, 2],\n",
    "\t[4, 5],\n",
    "\t[7, 8]]\n",
    "\n",
    "# mengakses nilai pada baris ke-3 kolom ke-2 dari matriks C sebagai variabel x\n",
    "x = matriks_C[...][...]\n",
    "print(f\"Nilai pada baris ke-3 kolom ke-2 matriks C adalah = {x}\")"
   ]
  },
  {
   "cell_type": "markdown",
   "metadata": {},
   "source": [
    "Nilai matriks juga dapat diganti dengan menggunakan indexing seperti dibawah."
   ]
  },
  {
   "cell_type": "code",
   "execution_count": null,
   "metadata": {},
   "outputs": [
    {
     "name": "stdout",
     "output_type": "stream",
     "text": [
      "Hasil matriks C yang diperbarui adalah = [[1, 2], [4, 5], [7, 16]]\n"
     ]
    }
   ],
   "source": [
    "matriks_C = [[1, 2],\n",
    "\t[4, 5],\n",
    "\t[7, 8]]\n",
    "\n",
    "# mengganti nilai baris ke-3 kolom ke-2 pada matriks C dengan nilai 16\n",
    "matriks_C[...][...] = ...\n",
    "print(f\"Hasil matriks C yang diperbarui adalah = {matriks_C}\")"
   ]
  },
  {
   "cell_type": "markdown",
   "metadata": {},
   "source": [
    "## Operasi Matriks"
   ]
  },
  {
   "cell_type": "markdown",
   "metadata": {},
   "source": [
    "### Transpose"
   ]
  },
  {
   "cell_type": "markdown",
   "metadata": {},
   "source": [
    "Transpose matriks adalah salah satu operasi dasar pada matriks. Pada dasarnya, operasi ini adalah mengubah kolom suatu matriks menjadi baris dan sebaliknya. Hal tersebut dapat dilakukan menggunakan pemrograman dasar Python seperti di bawah."
   ]
  },
  {
   "cell_type": "code",
   "execution_count": null,
   "metadata": {},
   "outputs": [
    {
     "name": "stdout",
     "output_type": "stream",
     "text": [
      "[[12, 4, 3], [7, 5, 8]]\n"
     ]
    }
   ],
   "source": [
    "matriks_D = [[12,7],                    # matriks awal sebelum di invers\n",
    "    [4 ,5],\n",
    "    [3 ,8]]\n",
    "\n",
    "hasil = [[0,0,0],                       # matriks default yang digunakan untuk menaruh nilai yang akan di transpose\n",
    "         [0,0,0]]\n",
    "\n",
    "# iterasi setiap baris\n",
    "for i in range(len(matriks_D)):\n",
    "   # iterasi setiap kolom\n",
    "   for j in range(len(matriks_D[0])):\n",
    "       # isi dengan menggunakan logika operasi transpose\n",
    "       hasil[...][...] = matriks_D[...][...]    \n",
    "\n",
    "print(hasil)\n",
    "\n",
    "# output diharapkan: [[12, 4, 3], [7, 5, 8]]"
   ]
  },
  {
   "cell_type": "markdown",
   "metadata": {},
   "source": [
    "Jawab pertanyaan berikut!\n",
    "1. Bagaimana ukuran dari matriks_D sebelum dan sesudah di invers?\n",
    "2. Jelaskan secara sederhana bagaimana program tersebut melakukan operasi invers!"
   ]
  },
  {
   "cell_type": "raw",
   "metadata": {},
   "source": [
    "Jawaban\n",
    "1. ...\n",
    "2. ..."
   ]
  },
  {
   "cell_type": "markdown",
   "metadata": {},
   "source": [
    "### Perkalian matriks dengan konstanta"
   ]
  },
  {
   "cell_type": "markdown",
   "metadata": {},
   "source": [
    "Pada contoh pemrograman dibawah ini, kita akan mencoba membuat perkalian matriks dengan konstanta."
   ]
  },
  {
   "cell_type": "code",
   "execution_count": null,
   "metadata": {},
   "outputs": [
    {
     "name": "stdout",
     "output_type": "stream",
     "text": [
      "[[20, 35], [10, 25], [15, 20]]\n"
     ]
    }
   ],
   "source": [
    "matriks_E = [[4,7],                        # matriks awal sebelum di invers\n",
    "    [2 ,5],\n",
    "    [3 ,4]]\n",
    "\n",
    "hasil = [[0,0],                            # matriks default yang digunakan untuk menaruh nilai hasil\n",
    "         [0,0],\n",
    "         [0,0]]\n",
    "\n",
    "# iterasi setiap baris\n",
    "for i in range(len(matriks_E)):\n",
    "    # iterasi setiap kolom\n",
    "    # mengalikan setiap nilai dengan 5\n",
    "    for j in range(len(matriks_E[0])):\n",
    "        # kalikan setiap nilai didalam matris dengan konstanta dan input kedalam matriks hasil\n",
    "        hasil[...][...] = matriks_E[...][...] * ... \n",
    "\n",
    "print(hasil)\n",
    "\n",
    "# output diharapkan: [[20, 35], [10, 25], [15, 20]]"
   ]
  },
  {
   "cell_type": "markdown",
   "metadata": {},
   "source": [
    "Selamat, kamu sudah menyelesaikan excercise Modul 6 Matriks. Seluruh pembelajaran pada excercise ini masih merupakan pemrograman dasar yang dilakukan dengan fungsi-fungsi dasar. Untuk dapat mendalami matriks dalam penggunaannya di python lebih lanjut, kedepannya kamu dapat menggunakan Numpy."
   ]
  },
  {
   "cell_type": "markdown",
   "metadata": {},
   "source": [
    "***\n",
    "<h1 align=\"center\">Well Done!!!</h1> \n",
    "\n",
    "***"
   ]
  }
 ],
 "metadata": {
  "kernelspec": {
   "display_name": "Python 3",
   "language": "python",
   "name": "python3"
  },
  "language_info": {
   "codemirror_mode": {
    "name": "ipython",
    "version": 3
   },
   "file_extension": ".py",
   "mimetype": "text/x-python",
   "name": "python",
   "nbconvert_exporter": "python",
   "pygments_lexer": "ipython3",
   "version": "3.10.5"
  }
 },
 "nbformat": 4,
 "nbformat_minor": 2
}
